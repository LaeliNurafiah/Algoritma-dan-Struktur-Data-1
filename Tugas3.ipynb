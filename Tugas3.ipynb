{
 "cells": [
  {
   "cell_type": "code",
   "execution_count": 1,
   "metadata": {},
   "outputs": [
    {
     "name": "stdout",
     "output_type": "stream",
     "text": [
      "Nilai laeli adalah 100\n"
     ]
    },
    {
     "ename": "NameError",
     "evalue": "name 'nilai' is not defined",
     "output_type": "error",
     "traceback": [
      "\u001b[1;31m---------------------------------------------------------------------------\u001b[0m",
      "\u001b[1;31mNameError\u001b[0m                                 Traceback (most recent call last)",
      "\u001b[1;32m<ipython-input-1-534cf68834b2>\u001b[0m in \u001b[0;36m<module>\u001b[1;34m\u001b[0m\n\u001b[0;32m      6\u001b[0m \u001b[1;33m\u001b[0m\u001b[0m\n\u001b[0;32m      7\u001b[0m \u001b[1;32mdel\u001b[0m \u001b[1;33m(\u001b[0m\u001b[0mnilai\u001b[0m\u001b[1;33m)\u001b[0m\u001b[1;33m\u001b[0m\u001b[1;33m\u001b[0m\u001b[0m\n\u001b[1;32m----> 8\u001b[1;33m \u001b[0mprint\u001b[0m \u001b[1;33m(\u001b[0m\u001b[0mnilai\u001b[0m\u001b[1;33m)\u001b[0m\u001b[1;33m\u001b[0m\u001b[1;33m\u001b[0m\u001b[0m\n\u001b[0m",
      "\u001b[1;31mNameError\u001b[0m: name 'nilai' is not defined"
     ]
    }
   ],
   "source": [
    "#Laeli Nurafiah\n",
    "#Menghapus variable\n",
    "\n",
    "nilai = 100 #variable : nilai\n",
    "print (\"Nilai laeli adalah\", nilai)\n",
    "\n",
    "del (nilai)\n",
    "print (nilai)"
   ]
  },
  {
   "cell_type": "code",
   "execution_count": 4,
   "metadata": {},
   "outputs": [
    {
     "name": "stdout",
     "output_type": "stream",
     "text": [
      "Keliling Lingkaran sama dengan 314.0\n"
     ]
    }
   ],
   "source": [
    "#Laeli Nurafiah\n",
    "#Menghitung Keliling lingkaran\n",
    "\n",
    "r = 50         #variable : r , #tipe data : integer\n",
    "phi = 3.14     #variable : phi , #tipe data : float\n",
    "kel = 2*phi*r  #variable : kel \n",
    "print (\"Keliling Lingkaran sama dengan\", kel)"
   ]
  },
  {
   "cell_type": "code",
   "execution_count": 3,
   "metadata": {},
   "outputs": [
    {
     "name": "stdout",
     "output_type": "stream",
     "text": [
      "True\n",
      "False\n"
     ]
    }
   ],
   "source": [
    "#Laeli Nurafiah\n",
    "#Perbandingan Boolean True\n",
    "\n",
    "print (50 > 25)\n",
    "print (50 < 25 )"
   ]
  },
  {
   "cell_type": "code",
   "execution_count": 11,
   "metadata": {},
   "outputs": [
    {
     "name": "stdout",
     "output_type": "stream",
     "text": [
      "64.0\n",
      "0b1000000\n",
      "0x40\n"
     ]
    }
   ],
   "source": [
    "#Laeli Nurafiah\n",
    "#Konversi Tipe data\n",
    "\n",
    "data = 64\n",
    "print (float (data))\n",
    "print (bin (data))\n",
    "print (hex (data))"
   ]
  },
  {
   "cell_type": "code",
   "execution_count": 5,
   "metadata": {},
   "outputs": [
    {
     "name": "stdout",
     "output_type": "stream",
     "text": [
      "Biodata Mahasiswa\n",
      "Nama :  Laeli Nurafiah\n",
      "NIM :  20090104           \n",
      "    \n",
      "Dia mahasiswa semester 1 yang berprestasi, karena memiliki IPK sebesar 4.0\n"
     ]
    },
    {
     "ename": "NameError",
     "evalue": "name 'ipk' is not defined",
     "output_type": "error",
     "traceback": [
      "\u001b[1;31m---------------------------------------------------------------------------\u001b[0m",
      "\u001b[1;31mNameError\u001b[0m                                 Traceback (most recent call last)",
      "\u001b[1;32m<ipython-input-5-e0fae0fe5d40>\u001b[0m in \u001b[0;36m<module>\u001b[1;34m\u001b[0m\n\u001b[0;32m     14\u001b[0m \u001b[1;33m\u001b[0m\u001b[0m\n\u001b[0;32m     15\u001b[0m \u001b[1;32mdel\u001b[0m \u001b[1;33m(\u001b[0m\u001b[0mipk\u001b[0m\u001b[1;33m)\u001b[0m\u001b[1;33m\u001b[0m\u001b[1;33m\u001b[0m\u001b[0m\n\u001b[1;32m---> 16\u001b[1;33m \u001b[0mprint\u001b[0m \u001b[1;33m(\u001b[0m\u001b[0mipk\u001b[0m\u001b[1;33m)\u001b[0m\u001b[1;33m\u001b[0m\u001b[1;33m\u001b[0m\u001b[0m\n\u001b[0m",
      "\u001b[1;31mNameError\u001b[0m: name 'ipk' is not defined"
     ]
    }
   ],
   "source": [
    "#Laeli Nurafiah\n",
    "#Mencetak Biodata Mahasiswa\n",
    "\n",
    "print (\"Biodata Mahasiswa\")\n",
    "nama = \"Laeli Nurafiah\"     #variable : nama #tipe_data : string\n",
    "nim = \"\"\"20090104           \n",
    "    \"\"\"                     #variable : nim #tipe_data : string\n",
    "semester = 1                #variable : semester #tipe_data : integer\n",
    "ipk = 4.00                  #variable : ipk #tipe_data : float\n",
    "\n",
    "print (\"Nama : \", nama)\n",
    "print (\"NIM : \", nim)\n",
    "print (\"Dia mahasiswa semester 1 yang berprestasi, karena memiliki IPK sebesar\", ipk)\n",
    "\n",
    "del (ipk)\n",
    "print (ipk)\n"
   ]
  },
  {
   "cell_type": "code",
   "execution_count": null,
   "metadata": {},
   "outputs": [],
   "source": []
  }
 ],
 "metadata": {
  "kernelspec": {
   "display_name": "Python 3",
   "language": "python",
   "name": "python3"
  },
  "language_info": {
   "codemirror_mode": {
    "name": "ipython",
    "version": 3
   },
   "file_extension": ".py",
   "mimetype": "text/x-python",
   "name": "python",
   "nbconvert_exporter": "python",
   "pygments_lexer": "ipython3",
   "version": "3.8.3"
  }
 },
 "nbformat": 4,
 "nbformat_minor": 4
}
