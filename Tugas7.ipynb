{
 "cells": [
  {
   "cell_type": "code",
   "execution_count": 12,
   "metadata": {},
   "outputs": [
    {
     "name": "stdout",
     "output_type": "stream",
     "text": [
      "1  Saya Tidak Akan Mengulangi Perbuatan Itu Lagi \n",
      "2  Saya Tidak Akan Mengulangi Perbuatan Itu Lagi \n",
      "3  Saya Tidak Akan Mengulangi Perbuatan Itu Lagi \n",
      "4  Saya Tidak Akan Mengulangi Perbuatan Itu Lagi \n",
      "5  Saya Tidak Akan Mengulangi Perbuatan Itu Lagi \n",
      "6  Saya Tidak Akan Mengulangi Perbuatan Itu Lagi \n",
      "7  Saya Tidak Akan Mengulangi Perbuatan Itu Lagi \n",
      "8  Saya Tidak Akan Mengulangi Perbuatan Itu Lagi \n",
      "9  Saya Tidak Akan Mengulangi Perbuatan Itu Lagi \n",
      "10  Saya Tidak Akan Mengulangi Perbuatan Itu Lagi \n",
      "11  Saya Tidak Akan Mengulangi Perbuatan Itu Lagi \n",
      "12  Saya Tidak Akan Mengulangi Perbuatan Itu Lagi \n",
      "13  Saya Tidak Akan Mengulangi Perbuatan Itu Lagi \n",
      "14  Saya Tidak Akan Mengulangi Perbuatan Itu Lagi \n",
      "15  Saya Tidak Akan Mengulangi Perbuatan Itu Lagi \n",
      "16  Saya Tidak Akan Mengulangi Perbuatan Itu Lagi \n",
      "17  Saya Tidak Akan Mengulangi Perbuatan Itu Lagi \n",
      "18  Saya Tidak Akan Mengulangi Perbuatan Itu Lagi \n",
      "19  Saya Tidak Akan Mengulangi Perbuatan Itu Lagi \n",
      "20  Saya Tidak Akan Mengulangi Perbuatan Itu Lagi \n",
      "21  Saya Tidak Akan Mengulangi Perbuatan Itu Lagi \n",
      "22  Saya Tidak Akan Mengulangi Perbuatan Itu Lagi \n",
      "23  Saya Tidak Akan Mengulangi Perbuatan Itu Lagi \n",
      "24  Saya Tidak Akan Mengulangi Perbuatan Itu Lagi \n",
      "25  Saya Tidak Akan Mengulangi Perbuatan Itu Lagi \n"
     ]
    }
   ],
   "source": [
    "#Laeli Nurafiah\n",
    "#NO1 : Perulangan menggunakan For\n",
    "\n",
    "l = 25\n",
    "for i in range (l):\n",
    "    print (i+1,\" Saya Tidak Akan Mengulangi Perbuatan Itu Lagi \")\n",
    "    "
   ]
  },
  {
   "cell_type": "code",
   "execution_count": 21,
   "metadata": {},
   "outputs": [
    {
     "name": "stdout",
     "output_type": "stream",
     "text": [
      "1  Saya Tidak Akan Mengulangi Perbuatan Itu Lagi \n",
      "2  Saya Tidak Akan Mengulangi Perbuatan Itu Lagi \n",
      "3  Saya Tidak Akan Mengulangi Perbuatan Itu Lagi \n",
      "4  Saya Tidak Akan Mengulangi Perbuatan Itu Lagi \n",
      "5  Saya Tidak Akan Mengulangi Perbuatan Itu Lagi \n",
      "6  Saya Tidak Akan Mengulangi Perbuatan Itu Lagi \n",
      "7  Saya Tidak Akan Mengulangi Perbuatan Itu Lagi \n",
      "8  Saya Tidak Akan Mengulangi Perbuatan Itu Lagi \n",
      "9  Saya Tidak Akan Mengulangi Perbuatan Itu Lagi \n",
      "10  Saya Tidak Akan Mengulangi Perbuatan Itu Lagi \n",
      "11  Saya Tidak Akan Mengulangi Perbuatan Itu Lagi \n",
      "12  Saya Tidak Akan Mengulangi Perbuatan Itu Lagi \n",
      "13  Saya Tidak Akan Mengulangi Perbuatan Itu Lagi \n",
      "14  Saya Tidak Akan Mengulangi Perbuatan Itu Lagi \n",
      "15  Saya Tidak Akan Mengulangi Perbuatan Itu Lagi \n",
      "16  Saya Tidak Akan Mengulangi Perbuatan Itu Lagi \n",
      "17  Saya Tidak Akan Mengulangi Perbuatan Itu Lagi \n",
      "18  Saya Tidak Akan Mengulangi Perbuatan Itu Lagi \n",
      "19  Saya Tidak Akan Mengulangi Perbuatan Itu Lagi \n",
      "20  Saya Tidak Akan Mengulangi Perbuatan Itu Lagi \n",
      "21  Saya Tidak Akan Mengulangi Perbuatan Itu Lagi \n",
      "22  Saya Tidak Akan Mengulangi Perbuatan Itu Lagi \n",
      "23  Saya Tidak Akan Mengulangi Perbuatan Itu Lagi \n",
      "24  Saya Tidak Akan Mengulangi Perbuatan Itu Lagi \n",
      "25  Saya Tidak Akan Mengulangi Perbuatan Itu Lagi \n"
     ]
    }
   ],
   "source": [
    "#Laeli Nurafiah\n",
    "#NO 1 : Perulangan menggunakan While\n",
    "\n",
    "i = 1\n",
    "while i <= 25 :\n",
    "    print (i , ' Saya Tidak Akan Mengulangi Perbuatan Itu Lagi ')\n",
    "    i +=1\n"
   ]
  },
  {
   "cell_type": "code",
   "execution_count": 3,
   "metadata": {},
   "outputs": [
    {
     "name": "stdout",
     "output_type": "stream",
     "text": [
      "15 True\n",
      "14 True\n",
      "13 True\n",
      "12 True\n",
      "11 True\n",
      "10 False\n",
      "9 False\n",
      "8 False\n",
      "7 False\n",
      "6 False\n",
      "5 False\n",
      "4 False\n",
      "3 False\n",
      "2 False\n",
      "1 False\n"
     ]
    }
   ],
   "source": [
    "#Laeli Nurafiah\n",
    "#NO 2 : Perulangan For\n",
    "\n",
    "x = 15\n",
    "for i in range (x) :\n",
    "    print (x, x > 10)\n",
    "    x = x - 1"
   ]
  },
  {
   "cell_type": "code",
   "execution_count": 4,
   "metadata": {},
   "outputs": [
    {
     "name": "stdout",
     "output_type": "stream",
     "text": [
      "15\n",
      "14\n",
      "13\n",
      "12\n",
      "11\n"
     ]
    }
   ],
   "source": [
    "#Laeli Nurafiah\n",
    "#No 2 : Perulangan While\n",
    "\n",
    "x = 15\n",
    "while x > 10:\n",
    "    print (x)\n",
    "    x = x - 1"
   ]
  },
  {
   "cell_type": "code",
   "execution_count": 5,
   "metadata": {},
   "outputs": [
    {
     "name": "stdout",
     "output_type": "stream",
     "text": [
      "Masukan Pilihan : 1.Ganjil | 2.Genap : 1\n",
      "1\n",
      "3\n",
      "5\n",
      "7\n",
      "9\n"
     ]
    }
   ],
   "source": [
    "#Laeli Nurafiah\n",
    "#No 3 : Perulangan Ganjil Genap\n",
    "\n",
    "\n",
    "\n",
    "pilihan = int(input(\"Masukan Pilihan : 1.Ganjil | 2.Genap : \"))\n",
    "\n",
    "if pilihan == 1:\n",
    "    for x in range (10):\n",
    "        if x % 2 == 1:\n",
    "            print(x)\n",
    "else:\n",
    "    for x in range (10):\n",
    "        if x % 2 == 0:\n",
    "            print(x)\n",
    "\n",
    "\n"
   ]
  },
  {
   "cell_type": "code",
   "execution_count": 8,
   "metadata": {},
   "outputs": [
    {
     "name": "stdout",
     "output_type": "stream",
     "text": [
      "Masukan Bilangan : 3\n",
      "3  Adalah Bilangan Genap :  False\n",
      "3  Adalah Bilangan Ganjil :  True\n"
     ]
    }
   ],
   "source": [
    "#Laeli Nurafiah\n",
    "#NO : 3 Program Ganjil Genap dengan FUngsi\n",
    "\n",
    "\n",
    "bil = int (input(\"Masukan Bilangan : \"))\n",
    "def genap():\n",
    "    bil_genap = bil  %2==0 \n",
    "    return bil_genap\n",
    "def ganjil ():\n",
    "    bil_ganjil = bil % 2 != 0\n",
    "    return bil_ganjil\n",
    "print (bil, \" Adalah Bilangan Genap : \", genap())\n",
    "print (bil, \" Adalah Bilangan Ganjil : \", ganjil ())\n"
   ]
  },
  {
   "cell_type": "code",
   "execution_count": null,
   "metadata": {},
   "outputs": [],
   "source": []
  }
 ],
 "metadata": {
  "kernelspec": {
   "display_name": "Python 3",
   "language": "python",
   "name": "python3"
  },
  "language_info": {
   "codemirror_mode": {
    "name": "ipython",
    "version": 3
   },
   "file_extension": ".py",
   "mimetype": "text/x-python",
   "name": "python",
   "nbconvert_exporter": "python",
   "pygments_lexer": "ipython3",
   "version": "3.8.3"
  }
 },
 "nbformat": 4,
 "nbformat_minor": 4
}
