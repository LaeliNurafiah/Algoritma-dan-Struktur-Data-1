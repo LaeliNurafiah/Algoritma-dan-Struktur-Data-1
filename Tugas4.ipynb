{
 "cells": [
  {
   "cell_type": "code",
   "execution_count": 12,
   "metadata": {},
   "outputs": [
    {
     "name": "stdout",
     "output_type": "stream",
     "text": [
      "Hasil  3 + 2 adalah  : 5\n",
      "Hasil  3 - 2 adalah  : 1\n",
      "Hasil  3 * 2 adalah  : 6\n",
      "Hasil  3 / 2 adalah  : 1.5\n",
      "Hasil  3 % 2 adalah  : 1\n",
      "Hasil  3 ** 2 adalah : 9\n"
     ]
    }
   ],
   "source": [
    "#Laeli Nurafiah\n",
    "#Operator aritmatika\n",
    "\n",
    "#Menggunakan operator penjumlahan\n",
    "p = 3\n",
    "q = 2\n",
    "jumlah = p + q           \n",
    "print (\"Hasil \", p, \"+\", q, \"adalah  :\", jumlah)\n",
    "\n",
    "#Menggunakan operator pengurangan\n",
    "kurang = p - q\n",
    "print (\"Hasil \", p, \"-\", q, \"adalah  :\", kurang)\n",
    "\n",
    "#Menggunakan operator perkalian\n",
    "kali = p * q\n",
    "print (\"Hasil \", p, \"*\", q, \"adalah  :\", kali)\n",
    "\n",
    "#Menggunakan operator pembagian\n",
    "bagi = p / q\n",
    "print (\"Hasil \", p, \"/\", q, \"adalah  :\", bagi)\n",
    "\n",
    "#Menggunakan operator sisa bagi\n",
    "sisa_bagi = p % q\n",
    "print (\"Hasil \", p, \"%\", q, \"adalah  :\", sisa_bagi)\n",
    "\n",
    "#Menggunakan operator pemangkatan\n",
    "pangkat = p ** q\n",
    "print (\"Hasil \", p, \"**\", q, \"adalah :\", pangkat)"
   ]
  },
  {
   "cell_type": "code",
   "execution_count": 38,
   "metadata": {},
   "outputs": [
    {
     "name": "stdout",
     "output_type": "stream",
     "text": [
      "Data yang diisi adalah              :  8\n",
      "Nilai setelah ditambah 2 adalah     : 10\n",
      "Nilai setelah dikurangi 3 adalah    : 7\n",
      "Nilai setelah dikali 10 adalah      : 70\n",
      "Nilai setelah dibagi 2 adalah       : 35.0\n",
      "Nilai sisa setalah dibagi 4 adalah  : 3.0\n",
      "Nilai setelah dipangkatkan 3 adalah : 27.0\n"
     ]
    }
   ],
   "source": [
    "#Laeli Nurafiah\n",
    "#Operator Penugasan\n",
    "\n",
    "#Operator penugasan untuk mengisi nilai\n",
    "nilai = 8\n",
    "print (\"Data yang diisi adalah              : \", nilai)\n",
    "\n",
    "#Operator penugasan untuk penjumlahan\n",
    "nilai += 2\n",
    "print (\"Nilai setelah ditambah 2 adalah     :\", nilai)\n",
    "\n",
    "#Operator penugasan untuk pengurangan\n",
    "nilai -= 3\n",
    "print (\"Nilai setelah dikurangi 3 adalah    :\", nilai)\n",
    "\n",
    "#Operator penugasan untuk perkalian\n",
    "nilai *= 10\n",
    "print (\"Nilai setelah dikali 10 adalah      :\",nilai)\n",
    "\n",
    "#Operator penugasan untuk pembagian\n",
    "nilai /= 2\n",
    "print (\"Nilai setelah dibagi 2 adalah       :\",nilai)\n",
    "\n",
    "#Operator penugasan untuk sisa bagi\n",
    "nilai %= 4\n",
    "print (\"Nilai sisa setalah dibagi 4 adalah  :\",nilai)\n",
    "\n",
    "#Operator penugasan untuk pemangkatan\n",
    "nilai **= 3\n",
    "print (\"Nilai setelah dipangkatkan 3 adalah :\",nilai)\n",
    "\n"
   ]
  },
  {
   "cell_type": "code",
   "execution_count": 3,
   "metadata": {},
   "outputs": [
    {
     "name": "stdout",
     "output_type": "stream",
     "text": [
      "Apakah angka ke 1 lebih besar dari angka ke 2?         : True\n",
      "Apakah angka ke 1 lebih kecil dari angka ke 2?         : False\n",
      "Apakah angka ke 1 sama dengan angka ke 2?              : False\n",
      "Apakah angka ke 1 tidak sama dengan angka ke 2?        : True\n",
      "Apakah angka ke 1 lebih besar sama dengan angka ke 2?  : True\n",
      "Apakah angka ke 1 lebih kecil sama dengan angka ke 2?  : False\n"
     ]
    }
   ],
   "source": [
    "#laeli Nurafiah\n",
    "#Operator pembanding\n",
    "\n",
    "#Operator perbandingan lebih besar \n",
    "angka_ke1 = 12 \n",
    "angka_ke2 = 6\n",
    "\n",
    "perbandingan1 = angka_ke1 > angka_ke2\n",
    "print (\"Apakah angka ke 1 lebih besar dari angka ke 2?         :\", perbandingan1)\n",
    "\n",
    "#Operator perbandingan lebih kecil\n",
    "perbandingan2 = angka_ke1 < angka_ke2\n",
    "print (\"Apakah angka ke 1 lebih kecil dari angka ke 2?         :\", perbandingan2)\n",
    "\n",
    "#Operator perbandingan sama dengan\n",
    "perbandingan3 = angka_ke1 == angka_ke2\n",
    "print (\"Apakah angka ke 1 sama dengan angka ke 2?              :\", perbandingan3)\n",
    "\n",
    "#Operator perbandingan tidak sama dengan\n",
    "perbandingan4 = angka_ke1 != angka_ke2\n",
    "print (\"Apakah angka ke 1 tidak sama dengan angka ke 2?        :\", perbandingan4)\n",
    "\n",
    "#Operator perbandingan lebih besar sama dengan\n",
    "perbandingan5 = angka_ke1 >= angka_ke2\n",
    "print (\"Apakah angka ke 1 lebih besar sama dengan angka ke 2?  :\", perbandingan5)\n",
    "\n",
    "#Operator perbandingan lebih kecil sama dengan\n",
    "perbandingan6 = angka_ke1 <= angka_ke2\n",
    "print (\"Apakah angka ke 1 lebih kecil sama dengan angka ke 2?  :\", perbandingan6)"
   ]
  },
  {
   "cell_type": "code",
   "execution_count": 11,
   "metadata": {},
   "outputs": [
    {
     "name": "stdout",
     "output_type": "stream",
     "text": [
      "Logika AND adalah Jika keduanya True, maka       : True\n",
      "Logika AND adalah Jika salah satunya False, maka : False\n",
      "Logika AND adalah Jika keduanya False, maka      : False\n",
      "Logika OR adalah Jika keduanya True, maka       : True\n",
      "Logika OR adalah Jika salah satunya True, maka  : True\n",
      "Logika OR adalah Jika keduanya False, maka      : False\n",
      "Logika NOT adalah jika  True, maka  : False\n",
      "Logika NOT adalah jika  False, maka : True\n"
     ]
    }
   ],
   "source": [
    "#laeli Nurafiah\n",
    "#Operator Logika\n",
    "\n",
    "#Logika AND\n",
    "data1 = True\n",
    "data2 = False\n",
    "and1 = data1 and data1\n",
    "print (\"Logika AND adalah Jika keduanya True, maka       :\", and1)\n",
    "\n",
    "and2 = data1 and data2\n",
    "print (\"Logika AND adalah Jika salah satunya False, maka :\", and2)\n",
    "\n",
    "and3 = data2 and data2\n",
    "print (\"Logika AND adalah Jika keduanya False, maka      :\", and3)\n",
    "\n",
    "#Logika OR\n",
    "or1 = data1 or data1\n",
    "print (\"Logika OR adalah Jika keduanya True, maka       :\", or1)\n",
    "\n",
    "or2 = data1 or data2\n",
    "print (\"Logika OR adalah Jika salah satunya True, maka  :\", or2)\n",
    "\n",
    "or3 = data2 or data2\n",
    "print (\"Logika OR adalah Jika keduanya False, maka      :\", or3)\n",
    "\n",
    "#Logika NOT\n",
    "\n",
    "not1 = not data1 \n",
    "print (\"Logika NOT adalah jika  True, maka  :\", not1)\n",
    "\n",
    "not2 = not data2 \n",
    "print (\"Logika NOT adalah jika  False, maka :\", not2)\n",
    "\n"
   ]
  },
  {
   "cell_type": "code",
   "execution_count": 2,
   "metadata": {},
   "outputs": [
    {
     "name": "stdout",
     "output_type": "stream",
     "text": [
      "Masukkan nama bayi :Nana\n",
      "Masukkan berat badan bayi (KG) :3.2\n",
      "Berat Badannya :  32.0 (Ons) \n",
      "Hallo  Nana berat badan mu adalah 3.2 KG, atau 32.0 ONS,  Maka dalam 1 bulan berat badanmu adalah 62.0 ONS\n"
     ]
    }
   ],
   "source": [
    "#laeli Nurafiah\n",
    "#Input Output\n",
    "\n",
    "#Input\n",
    "nama_bayi = (input(\"Masukkan nama bayi :\"))\n",
    "berat_badan = float ( input(\"Masukkan berat badan bayi (KG) :\"))\n",
    "\n",
    "#Proses\n",
    "ons = berat_badan * 10\n",
    "berat_dalam1bulan = ons + 30\n",
    "\n",
    "#Output\n",
    "print (\"Berat Badannya : \", ons, \"(Ons) \")\n",
    "print (\"Hallo \", nama_bayi, \"berat badan mu adalah\", berat_badan, \"KG,\",  \"atau\", ons, \"ONS, \", \"Maka dalam 1 bulan berat badanmu adalah\", berat_dalam1bulan, \"ONS\")\n"
   ]
  },
  {
   "cell_type": "code",
   "execution_count": null,
   "metadata": {},
   "outputs": [],
   "source": []
  }
 ],
 "metadata": {
  "kernelspec": {
   "display_name": "Python 3",
   "language": "python",
   "name": "python3"
  },
  "language_info": {
   "codemirror_mode": {
    "name": "ipython",
    "version": 3
   },
   "file_extension": ".py",
   "mimetype": "text/x-python",
   "name": "python",
   "nbconvert_exporter": "python",
   "pygments_lexer": "ipython3",
   "version": "3.8.3"
  }
 },
 "nbformat": 4,
 "nbformat_minor": 4
}
